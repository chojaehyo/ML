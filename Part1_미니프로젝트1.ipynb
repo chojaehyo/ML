{
 "cells": [
  {
   "cell_type": "markdown",
   "metadata": {
    "colab_type": "text",
    "id": "XGNuvipdg_7i"
   },
   "source": [
    "---   \n",
    "\n",
    "# 프로젝트 명 : 유기질 비료 연구와 제약 실험 사례를 통한 통계적 개념 이해\n",
    "## 프로젝트 목표\n",
    "    - 머신러닝에 이용되는 통계적 개념을 문제 상황에 적용해봅니다.\n",
    "    - 2가지 사례를 통해 강의에서 배운 확률 및 통계 개념을 이해하고 의미를 해석해봅니다.\n",
    "\n",
    "## 프로젝트 구성\n",
    "    - STEP 1 : 범주형자료를 통해 공분산과 피어슨 상관계수를 확인하고, 두 변수의 상관계수를 알아봅니다.\n",
    "    - STEP 2 : 통계 가설을 세우고 정규분포의 유의수준을 확인해봅니다.\n",
    "\n",
    "- 작성자: 이정훈 감수자\n",
    "\n",
    "---"
   ]
  },
  {
   "cell_type": "markdown",
   "metadata": {
    "colab_type": "text",
    "id": "m0cNS9Vl82iW"
   },
   "source": [
    "# STEP1. 범주형자료, 공분산, 상관계수\n",
    "\n",
    " \n",
    " 유기질 비료 연구단체는 해마다 비료 투입량 당 생산량을 조사하고 있다. 지난 10년간 조사한 10아르(약 300평)당 유기질비료 투입량(Input)과 벼 생산량(Output) 데이터는 아래와 같다."
   ]
  },
  {
   "cell_type": "code",
   "execution_count": 1,
   "metadata": {
    "colab": {
     "base_uri": "https://localhost:8080/",
     "height": 111
    },
    "colab_type": "code",
    "id": "YlgDqwDV82iX",
    "outputId": "9025bb12-9a86-4c77-d1f5-fcb31239108d"
   },
   "outputs": [
    {
     "data": {
      "text/html": [
       "<div>\n",
       "<style scoped>\n",
       "    .dataframe tbody tr th:only-of-type {\n",
       "        vertical-align: middle;\n",
       "    }\n",
       "\n",
       "    .dataframe tbody tr th {\n",
       "        vertical-align: top;\n",
       "    }\n",
       "\n",
       "    .dataframe thead th {\n",
       "        text-align: right;\n",
       "    }\n",
       "</style>\n",
       "<table border=\"1\" class=\"dataframe\">\n",
       "  <thead>\n",
       "    <tr style=\"text-align: right;\">\n",
       "      <th></th>\n",
       "      <th>2010</th>\n",
       "      <th>2011</th>\n",
       "      <th>2012</th>\n",
       "      <th>2013</th>\n",
       "      <th>2014</th>\n",
       "      <th>2015</th>\n",
       "      <th>2016</th>\n",
       "      <th>2017</th>\n",
       "      <th>2018</th>\n",
       "      <th>2019</th>\n",
       "    </tr>\n",
       "  </thead>\n",
       "  <tbody>\n",
       "    <tr>\n",
       "      <th>Input</th>\n",
       "      <td>681</td>\n",
       "      <td>685</td>\n",
       "      <td>647</td>\n",
       "      <td>722</td>\n",
       "      <td>742</td>\n",
       "      <td>671</td>\n",
       "      <td>689</td>\n",
       "      <td>657</td>\n",
       "      <td>706</td>\n",
       "      <td>722</td>\n",
       "    </tr>\n",
       "    <tr>\n",
       "      <th>Output</th>\n",
       "      <td>193</td>\n",
       "      <td>184</td>\n",
       "      <td>168</td>\n",
       "      <td>245</td>\n",
       "      <td>250</td>\n",
       "      <td>182</td>\n",
       "      <td>201</td>\n",
       "      <td>178</td>\n",
       "      <td>213</td>\n",
       "      <td>234</td>\n",
       "    </tr>\n",
       "  </tbody>\n",
       "</table>\n",
       "</div>"
      ],
      "text/plain": [
       "        2010  2011  2012  2013  2014  2015  2016  2017  2018  2019\n",
       "Input    681   685   647   722   742   671   689   657   706   722\n",
       "Output   193   184   168   245   250   182   201   178   213   234"
      ]
     },
     "execution_count": 1,
     "metadata": {},
     "output_type": "execute_result"
    }
   ],
   "source": [
    "import pandas as pd\n",
    "\n",
    "years = [2010, 2011, 2012, 2013, 2014, 2015, 2016, 2017, 2018, 2019]  # 1~10년\n",
    "\n",
    "Input = [681, 685, 647, 722, 742, 671, 689, 657, 706, 722] # 10년간 유기질 비료 투입량\n",
    "Output = [193, 184, 168, 245, 250, 182, 201, 178, 213, 234] # 10년간 벼 생산\n",
    "\n",
    "ind = ['Input', 'Output'] # 인덱스 명\n",
    "data = [Input, Output] # 데이터\n",
    "pd.DataFrame(data, columns=years, index=ind)"
   ]
  },
  {
   "cell_type": "markdown",
   "metadata": {
    "colab_type": "text",
    "id": "7BgZ635i82id"
   },
   "source": [
    "확인한 데이터를 산점도로 시각화해볼 수 있다."
   ]
  },
  {
   "cell_type": "code",
   "execution_count": 2,
   "metadata": {
    "colab": {
     "base_uri": "https://localhost:8080/",
     "height": 265
    },
    "colab_type": "code",
    "id": "TtM8TfbR82ie",
    "outputId": "dc4009e1-406f-4d94-b5dd-b49f4e0c1cda"
   },
   "outputs": [
    {
     "data": {
      "image/png": "[encoded data removed]",
      "text/plain": [
       "<Figure size 432x288 with 1 Axes>"
      ]
     },
     "metadata": {
      "needs_background": "light"
     },
     "output_type": "display_data"
    }
   ],
   "source": [
    "import matplotlib.pyplot as plt\n",
    "%matplotlib inline\n",
    "\n",
    "plt.scatter(Input, Output)\n",
    "plt.show()"
   ]
  },
  {
   "cell_type": "markdown",
   "metadata": {
    "colab_type": "text",
    "id": "SIRpaf_c82ii"
   },
   "source": [
    "### STEP1 - Q1. 모집단에서의 공분산의 정의와 표본에서의 공분산의 정의를 서술하시오."
   ]
  },
  {
   "cell_type": "markdown",
   "metadata": {
    "colab_type": "text",
    "id": "jKFLTKli82ij"
   },
   "source": [
    "#### Answer) 모집단에서의 공분산의 정의는?\n",
    "$Cos(X, Y) = E[(X - mu(X))(Y - mu(Y))]$\n",
    "$          = E[XY] - E[X]E[Y]$\n",
    "- 공분산은 X의 편차와 Y의 편차를 공한것의 평균이다. 하나의 값이 증가할 때 다른 값도 증가하면 공분산의 값은 양수가 되고 반대의 경우 공분산의 값은 음수가 된다."
   ]
  },
  {
   "cell_type": "markdown",
   "metadata": {
    "colab_type": "text",
    "id": "gvDvaNBFwL4h"
   },
   "source": [
    "#### Answer) 표본에서의 공분산의 정의는?\n",
    "$Sxy = Σ(Xi - Xbar)(Yi - Ybar)/(n-1)$\n",
    "- 표본공분산은 위와 같이 정의한다. Xi와 Yi는 각각 i번째의 x자료와 y자료의 값을 가리키고 Xbar와 Ybar는 각각의 표본평균을 말한다. 이는 표본분산과 마찬가지로 자료가 평균값으로부터 얼마나 떨어져 있는지 나타내는 것이다. \n"
   ]
  },
  {
   "cell_type": "markdown",
   "metadata": {
    "colab_type": "text",
    "id": "SBW-0o4o82ij"
   },
   "source": [
    "### STEP1 - Q2. 공분산의 의미를 약술하시오."
   ]
  },
  {
   "cell_type": "markdown",
   "metadata": {
    "colab_type": "text",
    "id": "-M6LGwTW82ik"
   },
   "source": [
    "#### Answer) 공분산의 의미는?\n",
    "- 공분산은 두개의 확률변수 X, Y가 상호 어떤 관계를 가지며 변화하는가를 나타낸 측도이다. 공분산 식의 구조 상 X가 X의 평균보다 커질때, Y가 Y의 평균보다 커지는 경향성이 생기면 양의 값, Y의 평균보다 작아지는 경향성이 생기면 음의 값을 가지게 된다. 그리고 해당 커지는 정도가 클수록 공분산의 절대값은 커진자. 즉, 두 자료의 평균을 중심으로 서로 같은 방향으로 움직이면 양의 값, 서로 반대방향으로 움직이면 음의 값을 가지며 그 커지는 정도에 따라 크기를 가지는 값이다. 위 문제에서는 비료 투입량과 생산량의 상호관계를 나타내는 측도를 말한다. "
   ]
  },
  {
   "cell_type": "markdown",
   "metadata": {
    "colab_type": "text",
    "id": "KOCat_PE82ik"
   },
   "source": [
    "### STEP1 - Q3. 두 변수(Input, Output)에 대한 공분산을 구하고 그것을 통하여 산점도에서 생산량과 비료투입량 관계를 서술하시오."
   ]
  },
  {
   "cell_type": "markdown",
   "metadata": {
    "colab_type": "text",
    "id": "WHg2iUz582il"
   },
   "source": [
    "#### Answer) 두 변수의 공분산은? (단답식x, 서술하시오)\n",
    "- 위 문제에서 Xbar는 692.2이고 Ybar는 204.8이다. 이를 적용하여 공분산을 구하면 아래와 같이 868.49이다. "
   ]
  },
  {
   "cell_type": "code",
   "execution_count": 3,
   "metadata": {},
   "outputs": [
    {
     "name": "stdout",
     "output_type": "stream",
     "text": [
      "xbar =  692.2\n",
      "xbar =  204.8\n",
      "868.4888888888888\n"
     ]
    }
   ],
   "source": [
    "xbar = sum(Input)/len(Input)\n",
    "ybar = sum(Output)/len(Output) \n",
    "\n",
    "m = 0\n",
    "for i in range(10):\n",
    "    m += (Input[i] - xbar)*(Output[i] - ybar)\n",
    "\n",
    "print(\"xbar = \", xbar)\n",
    "print(\"xbar = \", ybar)    \n",
    "print(m/9)"
   ]
  },
  {
   "cell_type": "markdown",
   "metadata": {
    "colab_type": "text",
    "id": "l0EupbMOwj93"
   },
   "source": [
    "#### Answer) 생산량-비료투입량의 관계\n",
    "- 공분산이 양수이므로 비료투입량을 늘렸을 때 생산량도 증가하는 것을 알 수 있다. 이는 산점도에서도 쉽게 확인할 수 있다."
   ]
  },
  {
   "cell_type": "markdown",
   "metadata": {
    "colab_type": "text",
    "id": "ezeud0oD82il"
   },
   "source": [
    "### STEP1 - Q4. 두 변수(Input, Output)에 대한 피어슨 상관계수를 구하시오."
   ]
  },
  {
   "cell_type": "markdown",
   "metadata": {
    "colab_type": "text",
    "id": "QQEAEfxZ82im"
   },
   "source": [
    "#### Answer) 피어슨 상관계수를 구하시오.\n",
    "- 상관계수는 두 변수간의 관계의 강도를 말한다. 그리고 주로 피어슨 상관계수가 사용된다. 보통 피어슨 상관계수 값이 0에 가까울수록 상관 관계가 없다고 해석되며 -1과 +1에 가까울 수록 강하다고 한다. 피어슨 상관계수는 공분산을 X와 Y의 표준편차의 곱으로 나눈 값이다."
   ]
  },
  {
   "cell_type": "code",
   "execution_count": 5,
   "metadata": {},
   "outputs": [
    {
     "name": "stdout",
     "output_type": "stream",
     "text": [
      "0.9702755615167566\n"
     ]
    }
   ],
   "source": [
    "import numpy as np\n",
    "sx = np.std(Input, ddof=1)\n",
    "sy = np.std(Output, ddof=1)\n",
    "cos = 868.49\n",
    "\n",
    "p = cos/(sx*sy)\n",
    "print(p)"
   ]
  },
  {
   "cell_type": "markdown",
   "metadata": {
    "colab_type": "text",
    "id": "2lhSytQK82im"
   },
   "source": [
    "# STEP2. 가설검정, P-value\n",
    "\n",
    "\n",
    "## 가설을 세우고 유의수준을 통해서 검정을 해볼수 있다.\n",
    "\n",
    "\n",
    "### 한 제약회사에서 생산하고 있는 기존의 진통제는 진통 효과가 나타나는 시간이 평균 30분, 표준편차가 5분인 것으로 알려져 있다. 새로운 진통제를 개발한 연구원들은 새로운 진통제의 효과가 더 빨리 나타난다고 주장한다. 회사의 경영진은 이를 확인하기 위하여 50명의 환자를 임의추출하여 새로운 진통제를 복용시킨 후, 진통 효과가 나타나는 시간의 평균 $\\overline{X}$를 조사하기로 하였다. \n",
    "\n",
    "### STEP2 - Q1. 위 조사를 위하여 귀무가설과 대립가설을 세우시오.\n"
   ]
  },
  {
   "cell_type": "markdown",
   "metadata": {
    "colab_type": "text",
    "id": "OYAxj0Pp82im"
   },
   "source": [
    "#### Answer) 귀무가설\n",
    "- 새로 개발된 진통제는 진통효과가 나타나는 시간이 평균 30분 이상일 것이다. \n",
    "$M >= 30$ "
   ]
  },
  {
   "cell_type": "markdown",
   "metadata": {
    "colab_type": "text",
    "id": "YWBjIiJUxHza"
   },
   "source": [
    "#### Answer) 대립가설\n",
    "- 새로 개발된 진통제는 진통효과가 나타나는 시간이 평균 30분 미만일 것이다.\n",
    "$M < 30$"
   ]
  },
  {
   "cell_type": "markdown",
   "metadata": {
    "colab_type": "text",
    "id": "qPe0fyyz82in"
   },
   "source": [
    "### STEP2 - Q2. 유의수준에 대하여 간단히 약술하시오.\n"
   ]
  },
  {
   "cell_type": "markdown",
   "metadata": {
    "colab_type": "text",
    "id": "taQwV1Id82in"
   },
   "source": [
    "#### Answer) 유의수준이란?\n",
    "- 유의수준은 가설검정에서 사용되는 기준값이다. 일반적으로 유의수준은 α로 표시한다. 예를 들어 95%의 신뢰도를 기준으로 한다면 (1 - 0.95)인 0.05가 유의수준이 된다."
   ]
  },
  {
   "cell_type": "markdown",
   "metadata": {
    "colab_type": "text",
    "id": "b0sAUOm782io"
   },
   "source": [
    "### STEP2 - Q3. 새로운 진통제의 효과가 나타나는 시간은 표준편차가 5분인 정규분포를 따른다고 할 때, 기각역이 $X \\leq 28.5 $ 인 검정법이 유의수준 5%인 검정임을 확인하여라."
   ]
  },
  {
   "cell_type": "markdown",
   "metadata": {
    "colab_type": "text",
    "id": "YeRUIXuf82io"
   },
   "source": [
    "#### Answer) 단답x, 서술하시오.\n",
    "- 아래와 같이 28.5에 해당하는 값은 표준화 후 Z 분포에서 -2.12 값에 해당하고, 1.645보다 절대값이 크므로 귀무가설을 기각합니다."
   ]
  },
  {
   "cell_type": "code",
   "execution_count": 6,
   "metadata": {
    "colab": {},
    "colab_type": "code",
    "id": "tAyZyESwm6Qu"
   },
   "outputs": [
    {
     "name": "stdout",
     "output_type": "stream",
     "text": [
      "-2.121320343559643\n"
     ]
    }
   ],
   "source": [
    "import math\n",
    "\n",
    "z_value = (28.5 - 30)/(5/math.sqrt(50))\n",
    "print(z_value)"
   ]
  },
  {
   "cell_type": "code",
   "execution_count": 8,
   "metadata": {
    "colab": {},
    "colab_type": "code",
    "id": "f-CFbpJx82is"
   },
   "outputs": [
    {
     "data": {
      "text/plain": [
       "0.016947426762344623"
      ]
     },
     "execution_count": 8,
     "metadata": {},
     "output_type": "execute_result"
    }
   ],
   "source": [
    "from scipy.stats import norm\n",
    "\n",
    "norm.cdf(z_value)"
   ]
  }
 ],
 "metadata": {
  "colab": {
   "collapsed_sections": [],
   "name": "(수정본)Part1_미니프로젝트1(문제).ipynb",
   "provenance": []
  },
  "kernelspec": {
   "display_name": "Python 3",
   "language": "python",
   "name": "python3"
  },
  "language_info": {
   "codemirror_mode": {
    "name": "ipython",
    "version": 3
   },
   "file_extension": ".py",
   "mimetype": "text/x-python",
   "name": "python",
   "nbconvert_exporter": "python",
   "pygments_lexer": "ipython3",
   "version": "3.8.5"
  }
 },
 "nbformat": 4,
 "nbformat_minor": 1
}
